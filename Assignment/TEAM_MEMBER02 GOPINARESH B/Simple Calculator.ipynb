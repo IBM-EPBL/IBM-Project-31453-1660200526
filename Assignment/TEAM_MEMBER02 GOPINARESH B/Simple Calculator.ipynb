{
 "cells": [
  {
   "cell_type": "code",
   "execution_count": 4,
   "id": "d4af80dc",
   "metadata": {},
   "outputs": [
    {
     "name": "stdout",
     "output_type": "stream",
     "text": [
      " Select the choice :\n",
      "\t1.add\n",
      "\t2.sub\n",
      "\t3.mul\n",
      "\t4.div\n",
      "\t\n",
      "enter the correct choice:3\n",
      "Enter the number1= 3\n",
      "Enter the number2= 4\n",
      "12\n"
     ]
    }
   ],
   "source": [
    "\n",
    "def add(a,b):#the function used to add two numbers\n",
    "\treturn(a+b)\n",
    "\n",
    "def subract(a,b):#the function used to subract two numbers\n",
    "\treturn(a-b)\n",
    "\n",
    "def multiply(a,b):#the function used to multiply two numbers\n",
    "\treturn(a*b)\n",
    "\n",
    "def divide(a,b):#the function used to add divide numbers\n",
    "\treturn(a//b)\n",
    "\n",
    "print(\"\"\" Select the choice :\n",
    "\t1.add\n",
    "\t2.sub\n",
    "\t3.mul\n",
    "\t4.div\n",
    "\t\"\"\")\n",
    "\n",
    "choice = int(input(\"enter the correct choice:\"))\n",
    "a=int(input(\"Enter the number1= \"))\n",
    "b=int(input(\"Enter the number2= \"))\n",
    "if choice == 1:\n",
    "    print(add(a,b))\n",
    "elif choice == 2:\n",
    "    print(subract(a,b))\n",
    "elif choice == 3:\n",
    "    print(multiply(a,b))\n",
    "elif choice == 4:\n",
    "    print(divide(a,b))\n",
    "else:\n",
    "    print(\"enter the correct choice\")\n"
   ]
  },
  {
   "cell_type": "code",
   "execution_count": null,
   "id": "7c6eb137",
   "metadata": {},
   "outputs": [],
   "source": []
  },
  {
   "cell_type": "code",
   "execution_count": null,
   "id": "ab197b69",
   "metadata": {},
   "outputs": [],
   "source": []
  }
 ],
 "metadata": {
  "kernelspec": {
   "display_name": "Python 3 (ipykernel)",
   "language": "python",
   "name": "python3"
  },
  "language_info": {
   "codemirror_mode": {
    "name": "ipython",
    "version": 3
   },
   "file_extension": ".py",
   "mimetype": "text/x-python",
   "name": "python",
   "nbconvert_exporter": "python",
   "pygments_lexer": "ipython3",
   "version": "3.9.12"
  }
 },
 "nbformat": 4,
 "nbformat_minor": 5
}
